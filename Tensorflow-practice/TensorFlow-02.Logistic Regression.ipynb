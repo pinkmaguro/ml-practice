{
 "cells": [
  {
   "cell_type": "code",
   "execution_count": 1,
   "metadata": {
    "collapsed": true
   },
   "outputs": [],
   "source": [
    "import numpy as np\n",
    "import tensorflow as tf\n",
    "import matplotlib.pyplot as plt\n",
    "%matplotlib inline"
   ]
  },
  {
   "cell_type": "markdown",
   "metadata": {},
   "source": [
    "# 로지스틱 회귀\n",
    "\n",
    "## 선형으로 분리가 가능한 데이터\n",
    "\n",
    "아래의 그래프에서 positive (1) 데이터를 파란색 마커로 negative(0) 데이터를 노란색 마커로 표시했습니다.\n",
    "\n",
    "이 두 부분은 직선으로 나눠질 수 있어보입니다.\n",
    "\n",
    "로지스틱의 크로스 엔트로피를 사용한 비용함수를 최소화하는 훈련을 반복해서 선형 분리를 해보겠습니다.\n"
   ]
  },
  {
   "cell_type": "code",
   "execution_count": 2,
   "metadata": {
    "scrolled": true
   },
   "outputs": [
    {
     "name": "stdout",
     "output_type": "stream",
     "text": [
      "(100, 2)\n",
      "(100, 1)\n"
     ]
    }
   ],
   "source": [
    "data = np.loadtxt('../data/ex2data1.txt', delimiter=',') \n",
    "x = data[:,0:-1]; print(x.shape)  #X = data[:, 0:2]\n",
    "y = data[:,[-1]]; print(y.shape)  #y = data[:, 2]"
   ]
  },
  {
   "cell_type": "code",
   "execution_count": 3,
   "metadata": {
    "scrolled": false
   },
   "outputs": [
    {
     "data": {
      "image/png": "[encoded data removed]",
      "text/plain": [
       "<matplotlib.figure.Figure at 0xb80a320>"
      ]
     },
     "metadata": {},
     "output_type": "display_data"
    }
   ],
   "source": [
    "pos = np.where(y == 1)\n",
    "neg = np.where(y == 0)\n",
    "plt.scatter(x[pos, 0], x[pos, 1], marker='+', c='b')\n",
    "plt.scatter(x[neg, 0], x[neg, 1], marker='o', c='y')\n",
    "plt.xlabel('Exam 1 score')\n",
    "plt.ylabel('Exam 2 score')\n",
    "plt.legend(['Admitted', 'Not Admitted'])\n",
    "plt.show()"
   ]
  },
  {
   "cell_type": "markdown",
   "metadata": {
    "collapsed": true
   },
   "source": [
    "raw 데이터를  직접 다루는 것 보다. 여러개의 피처를 갖는 데이터를 다룰 때는 스케일링을 하는 것이 머신러닝할 때는 여러모로 효율이 좋은 경우가 많습니다.\n",
    "\n",
    "사실 이 실습에서는 스케일링을 하지 않으면 최적화 함수가 제대로 작동하지 않았습니다.\n",
    "\n",
    "스케일러에는 보통 표준정규분포를 사용하는 StandardScaler 를 사용합니다.\n",
    "\n",
    "모듈을 사용하지 않는 경우에는 MinMaxScaler 를 직접 코딩해서 사용하기도 하는데 역 스케일링도 해야하기 때문에 모듈을 사용하는 것이 편하고 그럴 바에는 StandardScaler 를 사용 안 할 이유가 없습니다.\n",
    "\n",
    "스케일러를 사용하면 큰 범위에서 존재했던 데이터 값들을 대부분 [-2,2] 구간으로 모을 수 있습니다.\n",
    "\n",
    "스케일링을 한 데이터로 훈련을 시키기 때문에 가중치와 바이어스 파라미터도 스케일링에 의존하게 됩니다.\n",
    "\n",
    "스케일링을 사용하면 훈련을 완료한 후에 회귀 직선을 그려볼 땐데 그 과정이 조금 복잡해집니다."
   ]
  },
  {
   "cell_type": "code",
   "execution_count": 44,
   "metadata": {},
   "outputs": [],
   "source": [
    "from sklearn.preprocessing import StandardScaler\n",
    "\n",
    "scaler = StandardScaler().fit(x)\n",
    "x_scaled = scaler.transform(x)"
   ]
  },
  {
   "cell_type": "code",
   "execution_count": 45,
   "metadata": {},
   "outputs": [
    {
     "name": "stdout",
     "output_type": "stream",
     "text": [
      "0 0.427123\n",
      "200 0.362732\n",
      "400 0.327391\n",
      "600 0.305663\n",
      "800 0.29088\n",
      "1000 0.280012\n",
      "Accuracy:  0.89\n"
     ]
    }
   ],
   "source": [
    "X = tf.placeholder(tf.float32, shape=[None, 2])\n",
    "Y = tf.placeholder(tf.float32, shape=[None, 1])\n",
    "\n",
    "W = tf.Variable(tf.random_normal([2,1]), 'weight')\n",
    "b = tf.Variable(tf.random_normal([1]), 'bias')\n",
    "\n",
    "hypothesis = tf.sigmoid(tf.matmul(X, W) + b)\n",
    "\n",
    "cost = -tf.reduce_mean(Y * tf.log(hypothesis) + (1 - Y) * tf.log(1 - hypothesis))\n",
    "\n",
    "optimizer = tf.train.GradientDescentOptimizer(learning_rate=0.01).minimize(cost)\n",
    "\n",
    "prediction = tf.cast(hypothesis >= 0.5, dtype=tf.float32)\n",
    "\n",
    "accuracy = tf.reduce_mean(tf.cast( tf.equal(prediction, Y), dtype=tf.float32 ))\n",
    "\n",
    "\n",
    "cost_ = []\n",
    "\n",
    "with tf.Session() as sess:\n",
    "    sess.run(tf.global_variables_initializer())\n",
    "    for step in range(1001):\n",
    "        cost_val, _ = sess.run([cost, optimizer], feed_dict={X: x_scaled, Y: y})\n",
    "        cost_.append(cost_val)\n",
    "        if step % 200 == 0:\n",
    "            print(step, cost_val)\n",
    "    W_val, b_val, acc = sess.run([W, b, accuracy],\n",
    "                       feed_dict={X: x_scaled, Y: y})\n",
    "    print(\"Accuracy: \", acc)\n"
   ]
  },
  {
   "cell_type": "code",
   "execution_count": 19,
   "metadata": {
    "scrolled": true
   },
   "outputs": [
    {
     "data": {
      "text/plain": [
       "(array([[ 1.10815036],\n",
       "        [ 1.18459725]], dtype=float32), array([ 0.3800492], dtype=float32))"
      ]
     },
     "execution_count": 19,
     "metadata": {},
     "output_type": "execute_result"
    }
   ],
   "source": [
    "W_val, b_val"
   ]
  },
  {
   "cell_type": "markdown",
   "metadata": {},
   "source": [
    "### 로지스틱 회귀 훈련 결과\n",
    "\n",
    "1000 번의 훈련을 한 결과 정확도가 0.89 가 나왔습니다. 종 100 개의 샘플이 있으므로 11개 가 잘 못 분류된 것입니다.\n",
    "\n",
    "데이터와 회귀 직선을 그려서 확인해보겠습니다."
   ]
  },
  {
   "cell_type": "code",
   "execution_count": 39,
   "metadata": {},
   "outputs": [],
   "source": [
    "scaler_x1 = StandardScaler().fit(x[:,0].reshape(-1,1))\n",
    "scaler_x2 = StandardScaler().fit(x[:,1].reshape(-1,1))\n",
    "\n",
    "x_lin = np.linspace(np.min(x[:,0]) , np.max(x[:,0]), 100)\n",
    "\n",
    "x_lin_scaled = scaler_x1.transform(x_lin.reshape(-1,1))\n",
    "\n",
    "y_pred = -(x_lin_scaled * W_val[0] + b_val) / W_val[1]\n",
    "\n",
    "y_pred = scaler_x2.inverse_transform(y_pred.reshape(-1,1))"
   ]
  },
  {
   "cell_type": "code",
   "execution_count": 46,
   "metadata": {},
   "outputs": [
    {
     "data": {
      "image/png": "[encoded data removed]",
      "text/plain": [
       "<matplotlib.figure.Figure at 0xed503c8>"
      ]
     },
     "metadata": {},
     "output_type": "display_data"
    }
   ],
   "source": [
    "# 2D plot with regression line\n",
    "\n",
    "pos = np.where(y == 1)\n",
    "neg = np.where(y == 0)\n",
    "plt.scatter(x[pos, 0], x[pos, 1], marker='+', c='b')\n",
    "plt.scatter(x[neg, 0], x[neg, 1], marker='o', c='y')\n",
    "plt.plot(x_lin, y_pred, 'r-')\n",
    "plt.show()\n",
    "    "
   ]
  }
 ],
 "metadata": {
  "kernelspec": {
   "display_name": "Python 3",
   "language": "python",
   "name": "python3"
  },
  "language_info": {
   "codemirror_mode": {
    "name": "ipython",
    "version": 3
   },
   "file_extension": ".py",
   "mimetype": "text/x-python",
   "name": "python",
   "nbconvert_exporter": "python",
   "pygments_lexer": "ipython3",
   "version": "3.6.1"
  }
 },
 "nbformat": 4,
 "nbformat_minor": 2
}
